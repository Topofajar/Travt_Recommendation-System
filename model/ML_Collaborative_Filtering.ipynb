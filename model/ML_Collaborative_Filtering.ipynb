{
  "nbformat": 4,
  "nbformat_minor": 0,
  "metadata": {
    "colab": {
      "provenance": [],
      "gpuType": "T4",
      "authorship_tag": "ABX9TyNKWjwmuGpYqkM/vc87TiBp",
      "include_colab_link": true
    },
    "kernelspec": {
      "name": "python3",
      "display_name": "Python 3"
    },
    "language_info": {
      "name": "python"
    },
    "accelerator": "GPU"
  },
  "cells": [
    {
      "cell_type": "markdown",
      "metadata": {
        "id": "view-in-github",
        "colab_type": "text"
      },
      "source": [
        "<a href=\"https://colab.research.google.com/github/Topofajar/Travt_Recommendation-System/blob/main/ML_Collaborative_Filtering.ipynb\" target=\"_parent\"><img src=\"https://colab.research.google.com/assets/colab-badge.svg\" alt=\"Open In Colab\"/></a>"
      ]
    },
    {
      "cell_type": "code",
      "execution_count": 1,
      "metadata": {
        "id": "8eDEj00hPSKc"
      },
      "outputs": [],
      "source": [
        " # Import libraries\n",
        "import pandas as pd\n",
        "import numpy as np\n",
        "from keras.layers import Input, Embedding, Concatenate, Flatten, Dense, Dropout, BatchNormalization\n",
        "from keras.models import Model\n",
        "from keras.regularizers import l2\n",
        "from sklearn.model_selection import train_test_split\n",
        "from keras.callbacks import Callback, ModelCheckpoint, EarlyStopping\n",
        "from keras.optimizers import Adam"
      ]
    },
    {
      "cell_type": "code",
      "source": [
        "# Load datasets\n",
        "tourist_resto_data = pd.read_csv(\"https://raw.githubusercontent.com/Topofajar/Travt_Recommendation-System/main/Dataset/Tourist%20and%20Resto%20Data.csv\")\n",
        "rating_data = pd.read_csv(\"https://raw.githubusercontent.com/Topofajar/Travt_Recommendation-System/main/Dataset/Rating%20Data.csv\")\n",
        "user_data = pd.read_csv(\"https://raw.githubusercontent.com/Topofajar/Travt_Recommendation-System/main/Dataset/User%20Data.csv\")\n"
      ],
      "metadata": {
        "id": "IwbsY2JDP7e9"
      },
      "execution_count": 2,
      "outputs": []
    },
    {
      "cell_type": "code",
      "source": [
        "# Check columns\n",
        "print(\"Tourist and Resto Data columns:\", tourist_resto_data.columns)\n",
        "print(\"Rating Data columns:\", rating_data.columns)\n",
        "print(\"User Data columns:\", user_data.columns)"
      ],
      "metadata": {
        "colab": {
          "base_uri": "https://localhost:8080/"
        },
        "id": "-t_CcJdOQCuV",
        "outputId": "1e6a4573-e176-436b-9807-41bcc7ea955d"
      },
      "execution_count": 3,
      "outputs": [
        {
          "output_type": "stream",
          "name": "stdout",
          "text": [
            "Tourist and Resto Data columns: Index(['place_id', 'place_maps_id', 'name', 'site', 'subtypes', 'category',\n",
            "       'phone', 'full_address', 'city', 'latitude', 'longitude', 'location',\n",
            "       'rating', 'total rating', 'reviews_link', 'rating_per_score_1',\n",
            "       'rating_per_score_2', 'rating_per_score_3', 'rating_per_score_4',\n",
            "       'rating_per_score_5', 'photos_count', 'photo 1', 'photo 2', 'photo 3',\n",
            "       'photo 4', 'working_hours', 'about', 'description', 'verified',\n",
            "       'location_link', 'reviews_id'],\n",
            "      dtype='object')\n",
            "Rating Data columns: Index(['user_id', 'place_id', 'rating', 'review'], dtype='object')\n",
            "User Data columns: Index(['user_id', 'location', 'age', 'gender'], dtype='object')\n"
          ]
        }
      ]
    },
    {
      "cell_type": "code",
      "source": [
        "# Ensure columns are correctly named\n",
        "if 'place_id' in tourist_resto_data.columns:\n",
        "    tourist_resto_data.rename(columns={'place_id': 'place_id'}, inplace=True)\n",
        "\n",
        "# Merge datasets\n",
        "merged_data = pd.merge(rating_data, tourist_resto_data, on='place_id')\n",
        "merged_data = pd.merge(merged_data, user_data, on='user_id')\n",
        "\n",
        "# Select relevant columns\n",
        "merged_data = merged_data[['user_id', 'place_id', 'rating_x', 'latitude', 'longitude']]\n",
        "\n",
        "# Rename columns for clarity\n",
        "merged_data.columns = ['user_id', 'place_id', 'rating', 'latitude', 'longitude']\n",
        "\n",
        "# Create mappings for user and place IDs\n",
        "user_id_map = {id_: i for i, id_ in enumerate(merged_data['user_id'].unique())}\n",
        "place_id_map = {id_: i for i, id_ in enumerate(merged_data['place_id'].unique())}\n",
        "\n",
        "# Map user and place IDs to integers\n",
        "merged_data['user_id'] = merged_data['user_id'].map(user_id_map)\n",
        "merged_data['place_id'] = merged_data['place_id'].map(place_id_map)\n",
        "\n",
        "# Split data into training and testing sets\n",
        "train, test = train_test_split(merged_data, test_size=0.2, random_state=42)\n",
        "\n",
        "# Number of unique users and places\n",
        "n_users = len(user_id_map)\n",
        "n_places = len(place_id_map)\n",
        "\n",
        "print('n_users', n_users)\n",
        "print('n_places', n_places)"
      ],
      "metadata": {
        "colab": {
          "base_uri": "https://localhost:8080/"
        },
        "id": "bUEBVezYQHTx",
        "outputId": "310e002c-9c61-45ad-fed9-460ba5411d13"
      },
      "execution_count": 4,
      "outputs": [
        {
          "output_type": "stream",
          "name": "stdout",
          "text": [
            "n_users 27499\n",
            "n_tplaces 742\n"
          ]
        }
      ]
    },
    {
      "cell_type": "code",
      "source": [
        "# Define input layers\n",
        "user_input = Input(shape=(1,), name='user_input')\n",
        "place_input = Input(shape=(1,), name='place_input')\n",
        "\n",
        "# User and place embeddings\n",
        "user_embedding = Embedding(output_dim=50, input_dim=n_users, input_length=1)(user_input)\n",
        "place_embedding = Embedding(output_dim=50, input_dim=n_places, input_length=1)(place_input)\n",
        "\n",
        "# Flatten embeddings\n",
        "user_flat = Flatten()(user_embedding)\n",
        "place_flat = Flatten()(place_embedding)\n",
        "\n",
        "# Concatenate user and place embeddings\n",
        "concat = Concatenate()([user_flat, place_flat])\n",
        "\n",
        "# BatchNormalization\n",
        "batch_norm = BatchNormalization()(concat)\n",
        "\n",
        "# Dense layers with L2 regularization\n",
        "dense1 = Dense(128, activation='relu', kernel_regularizer=l2(0.01))(batch_norm)\n",
        "dropout1 = Dropout(0.5)(dense1)\n",
        "dense2 = Dense(64, activation='relu', kernel_regularizer=l2(0.01))(dropout1)\n",
        "dropout2 = Dropout(0.5)(dense2)\n",
        "\n",
        "# Output layer\n",
        "output = Dense(1, activation='linear')(dropout2)"
      ],
      "metadata": {
        "id": "C1boYp66WjGp"
      },
      "execution_count": 5,
      "outputs": []
    },
    {
      "cell_type": "code",
      "source": [
        "# Model\n",
        "model = Model(inputs=[user_input, place_input], outputs=output)\n",
        "\n",
        "# Compile model\n",
        "model.compile(loss='mean_squared_error', optimizer=Adam(learning_rate=0.001))\n",
        "\n",
        "# Summary of the model\n",
        "model.summary()"
      ],
      "metadata": {
        "colab": {
          "base_uri": "https://localhost:8080/"
        },
        "id": "ZSPNK6AlWn9v",
        "outputId": "71522981-c8ba-4b5f-ed16-382eb939710d"
      },
      "execution_count": 6,
      "outputs": [
        {
          "output_type": "stream",
          "name": "stdout",
          "text": [
            "Model: \"model\"\n",
            "__________________________________________________________________________________________________\n",
            " Layer (type)                Output Shape                 Param #   Connected to                  \n",
            "==================================================================================================\n",
            " user_input (InputLayer)     [(None, 1)]                  0         []                            \n",
            "                                                                                                  \n",
            " place_input (InputLayer)    [(None, 1)]                  0         []                            \n",
            "                                                                                                  \n",
            " embedding (Embedding)       (None, 1, 50)                1374950   ['user_input[0][0]']          \n",
            "                                                                                                  \n",
            " embedding_1 (Embedding)     (None, 1, 50)                37100     ['place_input[0][0]']         \n",
            "                                                                                                  \n",
            " flatten (Flatten)           (None, 50)                   0         ['embedding[0][0]']           \n",
            "                                                                                                  \n",
            " flatten_1 (Flatten)         (None, 50)                   0         ['embedding_1[0][0]']         \n",
            "                                                                                                  \n",
            " concatenate (Concatenate)   (None, 100)                  0         ['flatten[0][0]',             \n",
            "                                                                     'flatten_1[0][0]']           \n",
            "                                                                                                  \n",
            " batch_normalization (Batch  (None, 100)                  400       ['concatenate[0][0]']         \n",
            " Normalization)                                                                                   \n",
            "                                                                                                  \n",
            " dense (Dense)               (None, 128)                  12928     ['batch_normalization[0][0]'] \n",
            "                                                                                                  \n",
            " dropout (Dropout)           (None, 128)                  0         ['dense[0][0]']               \n",
            "                                                                                                  \n",
            " dense_1 (Dense)             (None, 64)                   8256      ['dropout[0][0]']             \n",
            "                                                                                                  \n",
            " dropout_1 (Dropout)         (None, 64)                   0         ['dense_1[0][0]']             \n",
            "                                                                                                  \n",
            " dense_2 (Dense)             (None, 1)                    65        ['dropout_1[0][0]']           \n",
            "                                                                                                  \n",
            "==================================================================================================\n",
            "Total params: 1433699 (5.47 MB)\n",
            "Trainable params: 1433499 (5.47 MB)\n",
            "Non-trainable params: 200 (800.00 Byte)\n",
            "__________________________________________________________________________________________________\n"
          ]
        }
      ]
    },
    {
      "cell_type": "code",
      "source": [
        "class CustomCallback(Callback):\n",
        "    def on_epoch_end(self, epoch, logs=None):\n",
        "        logs = logs or {}\n",
        "        training_loss = logs.get('loss')\n",
        "        validation_loss = logs.get('val_loss')\n",
        "\n",
        "        # Check if training loss is better than validation loss\n",
        "        if training_loss and validation_loss and training_loss <= validation_loss:\n",
        "            print(f'\\nEpoch {epoch + 1}: Training loss {training_loss} is better than validation loss {validation_loss}.')\n",
        "        else:\n",
        "            print(f'\\nEpoch {epoch + 1}: Training loss {training_loss} is NOT better than validation loss {validation_loss}.')\n",
        "\n",
        "# Callbacks\n",
        "checkpoint = ModelCheckpoint('best_model.h5', monitor='val_loss', verbose=1, save_best_only=True, mode='min')\n",
        "early_stopping = EarlyStopping(monitor='val_loss', patience=5, restore_best_weights=True)\n",
        "custom_callback = CustomCallback()\n",
        "\n",
        "# Fit the model\n",
        "history = model.fit([train.user_id, train.place_id], train.rating,\n",
        "                    epochs=50, batch_size=128,\n",
        "                    validation_data=([test.user_id, test.place_id], test.rating),\n",
        "                    callbacks=[checkpoint, early_stopping])"
      ],
      "metadata": {
        "colab": {
          "base_uri": "https://localhost:8080/"
        },
        "id": "DDXZgylXWyos",
        "outputId": "df4868c4-2fba-4a86-a36b-e6f86b1ead0e"
      },
      "execution_count": 7,
      "outputs": [
        {
          "output_type": "stream",
          "name": "stdout",
          "text": [
            "Epoch 1/50\n",
            "3823/3823 [==============================] - ETA: 0s - loss: 1.8059\n",
            "Epoch 1: val_loss improved from inf to 0.83470, saving model to best_model.h5\n",
            "3823/3823 [==============================] - 46s 9ms/step - loss: 1.8059 - val_loss: 0.8347\n",
            "Epoch 2/50\n",
            "   9/3823 [..............................] - ETA: 26s - loss: 1.1176"
          ]
        },
        {
          "output_type": "stream",
          "name": "stderr",
          "text": [
            "/usr/local/lib/python3.10/dist-packages/keras/src/engine/training.py:3103: UserWarning: You are saving your model as an HDF5 file via `model.save()`. This file format is considered legacy. We recommend using instead the native Keras format, e.g. `model.save('my_model.keras')`.\n",
            "  saving_api.save_model(\n"
          ]
        },
        {
          "output_type": "stream",
          "name": "stdout",
          "text": [
            "3816/3823 [============================>.] - ETA: 0s - loss: 0.9367\n",
            "Epoch 2: val_loss improved from 0.83470 to 0.82443, saving model to best_model.h5\n",
            "3823/3823 [==============================] - 25s 7ms/step - loss: 0.9365 - val_loss: 0.8244\n",
            "Epoch 3/50\n",
            "3820/3823 [============================>.] - ETA: 0s - loss: 0.8377\n",
            "Epoch 3: val_loss improved from 0.82443 to 0.82310, saving model to best_model.h5\n",
            "3823/3823 [==============================] - 22s 6ms/step - loss: 0.8376 - val_loss: 0.8231\n",
            "Epoch 4/50\n",
            "3820/3823 [============================>.] - ETA: 0s - loss: 0.8139\n",
            "Epoch 4: val_loss did not improve from 0.82310\n",
            "3823/3823 [==============================] - 23s 6ms/step - loss: 0.8139 - val_loss: 0.8271\n",
            "Epoch 5/50\n",
            "3823/3823 [==============================] - ETA: 0s - loss: 0.8023\n",
            "Epoch 5: val_loss did not improve from 0.82310\n",
            "3823/3823 [==============================] - 23s 6ms/step - loss: 0.8023 - val_loss: 0.8364\n",
            "Epoch 6/50\n",
            "3823/3823 [==============================] - ETA: 0s - loss: 0.7940\n",
            "Epoch 6: val_loss did not improve from 0.82310\n",
            "3823/3823 [==============================] - 21s 6ms/step - loss: 0.7940 - val_loss: 0.8366\n",
            "Epoch 7/50\n",
            "3820/3823 [============================>.] - ETA: 0s - loss: 0.7877\n",
            "Epoch 7: val_loss did not improve from 0.82310\n",
            "3823/3823 [==============================] - 21s 5ms/step - loss: 0.7878 - val_loss: 0.8421\n",
            "Epoch 8/50\n",
            "3818/3823 [============================>.] - ETA: 0s - loss: 0.7821\n",
            "Epoch 8: val_loss did not improve from 0.82310\n",
            "3823/3823 [==============================] - 22s 6ms/step - loss: 0.7821 - val_loss: 0.8523\n"
          ]
        }
      ]
    },
    {
      "cell_type": "code",
      "source": [
        "import matplotlib.pyplot as plt\n",
        "\n",
        "# Plot training loss starting from epoch 3\n",
        "plt.plot(history.epoch, history.history['loss'], label='Training Loss')\n",
        "\n",
        "# Plot validation loss starting from epoch 3\n",
        "plt.plot(history.epoch, history.history['val_loss'], label='Validation Loss')\n",
        "\n",
        "# Adding labels and title\n",
        "plt.xlabel(\"Epochs\")\n",
        "plt.ylabel(\"Loss\")\n",
        "plt.title(\"Training and Validation Loss Model 2\")\n",
        "\n",
        "# Adding legend\n",
        "plt.legend()\n",
        "\n",
        "# Show the plot\n",
        "plt.show()\n"
      ],
      "metadata": {
        "colab": {
          "base_uri": "https://localhost:8080/",
          "height": 472
        },
        "id": "ch53gqZoWqyx",
        "outputId": "6b00a27b-7779-4e2f-eb36-04e48a2e0991"
      },
      "execution_count": 8,
      "outputs": [
        {
          "output_type": "display_data",
          "data": {
            "text/plain": [
              "<Figure size 640x480 with 1 Axes>"
            ],
            "image/png": "[encoded data removed]"
          },
          "metadata": {}
        }
      ]
    },
    {
      "cell_type": "code",
      "source": [],
      "metadata": {
        "id": "0iPEg0PXWdXJ"
      },
      "execution_count": 8,
      "outputs": []
    },
    {
      "cell_type": "code",
      "source": [],
      "metadata": {
        "id": "voeLvpd9WV7i"
      },
      "execution_count": 8,
      "outputs": []
    }
  ]
}
